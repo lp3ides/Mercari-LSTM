{
 "cells": [
  {
   "cell_type": "code",
   "execution_count": 26,
   "metadata": {},
   "outputs": [
    {
     "data": {
      "text/html": [
       "<script>requirejs.config({paths: { 'plotly': ['https://cdn.plot.ly/plotly-latest.min']},});if(!window.Plotly) {{require(['plotly'],function(plotly) {window.Plotly=plotly;});}}</script>"
      ],
      "text/vnd.plotly.v1+html": [
       "<script>requirejs.config({paths: { 'plotly': ['https://cdn.plot.ly/plotly-latest.min']},});if(!window.Plotly) {{require(['plotly'],function(plotly) {window.Plotly=plotly;});}}</script>"
      ]
     },
     "metadata": {},
     "output_type": "display_data"
    }
   ],
   "source": [
    "# Copyright 2015 The TensorFlow Authors. All Rights Reserved.\n",
    "#\n",
    "# Licensed under the Apache License, Version 2.0 (the \"License\");\n",
    "# you may not use this file except in compliance with the License.\n",
    "# You may obtain a copy of the License at\n",
    "#\n",
    "#     http://www.apache.org/licenses/LICENSE-2.0\n",
    "#\n",
    "# Unless required by applicable law or agreed to in writing, software\n",
    "# distributed under the License is distributed on an \"AS IS\" BASIS,\n",
    "# WITHOUT WARRANTIES OR CONDITIONS OF ANY KIND, either express or implied.\n",
    "# See the License for the specific language governing permissions and\n",
    "# limitations under the License.\n",
    "# ==============================================================================\n",
    "\"\"\"Basic word2vec example.\"\"\"\n",
    "\n",
    "from __future__ import absolute_import\n",
    "from __future__ import division\n",
    "from __future__ import print_function\n",
    "\n",
    "import collections\n",
    "import math\n",
    "import os,sys\n",
    "import random\n",
    "from tempfile import gettempdir\n",
    "import zipfile\n",
    "\n",
    "import numpy as np\n",
    "from six.moves import urllib\n",
    "from six.moves import xrange  # pylint: disable=redefined-builtin\n",
    "import tensorflow as tf\n",
    "\n",
    "import pickle\n",
    "\n",
    "import pandas as pd\n",
    "import numpy as np\n",
    "import re\n",
    "\n",
    "import plotly.offline as py\n",
    "py.init_notebook_mode(connected=True)\n",
    "import plotly.graph_objs as go\n",
    "import plotly.tools as tls\n",
    "import plotly.figure_factory as ff\n",
    "import scipy\n",
    "%matplotlib inline\n",
    "import string\n",
    "\n",
    "import matplotlib.pyplot as plt\n",
    "import seaborn"
   ]
  },
  {
   "cell_type": "code",
   "execution_count": 4,
   "metadata": {},
   "outputs": [],
   "source": [
    "embeddings = (pickle.load(open(os.getcwd()+\"/Saved/embeddings.p\", \"rb\")))\n",
    "dictionary = pickle.load(open(os.getcwd()+\"/Saved/dictionary.p\", \"rb\"))\n",
    "reverse_dictionary = pickle.load(open(os.getcwd()+\"/Saved/reverse_dictionary.p\", \"rb\"))"
   ]
  },
  {
   "cell_type": "code",
   "execution_count": 5,
   "metadata": {},
   "outputs": [
    {
     "name": "stdout",
     "output_type": "stream",
     "text": [
      "important interesting impressive influential arguably \n",
      "america carolina oceania dakota africa \n",
      "change biodiversity warming desertification changes \n",
      "actress playwright guitarist novelist comedian \n",
      "history chronology eugenics cinema archaeology \n",
      "mass kinetic intensity orbiting masses \n",
      "using iterative simulator extensible automated \n",
      "december february march january june \n",
      "best grammy worst bafta outstanding \n",
      "known remembered depicted hailed disguised \n"
     ]
    }
   ],
   "source": [
    "# verify that embedding makes sense\n",
    "valid_size = 10     # Random set of words to evaluate similarity on.\n",
    "valid_window = 1000  # Only pick dev samples in the head of the distribution.\n",
    "valid_examples = np.random.choice(valid_window, valid_size, replace=False)\n",
    "\n",
    "def close(index):\n",
    "    word = embeddings[index,:]\n",
    "    distance = np.dot(embeddings, word)\n",
    "    rank = (-distance).argsort()\n",
    "    close_list = \"\"\n",
    "    for i in range(5):\n",
    "        close_list += reverse_dictionary[rank[i]]\n",
    "        close_list += \" \"\n",
    "    return close_list\n",
    "for index in valid_examples:\n",
    "    print(close(index))"
   ]
  },
  {
   "cell_type": "code",
   "execution_count": 62,
   "metadata": {},
   "outputs": [
    {
     "name": "stdout",
     "output_type": "stream",
     "text": [
      "(741268, 8) (370633, 8) (370636, 8)\n"
     ]
    }
   ],
   "source": [
    "df = pd.read_csv(os.getcwd()+\"/train.tsv\", sep='\\t')"
   ]
  },
  {
   "cell_type": "code",
   "execution_count": 63,
   "metadata": {},
   "outputs": [],
   "source": [
    "# create column of log price\n",
    "# combine categories and item description into one variable, with \n",
    "# item description first, then brand name, and categories appended\n",
    "# at the end\n",
    "df['item_description'] = df['item_description'].astype(str)\n",
    "df['brand_name'] = df['brand_name'].astype(str)\n",
    "df['category_name'] = df['category_name'].astype(str)\n",
    "df['log_price'] = np.log(df.price+1)\n",
    "# gauge the appropriate max length of sequence to use\n",
    "def des_len(text):\n",
    "    tokens = re.sub(r'[^\\w\\s]','',text).lower()\n",
    "    return tokens, len(tokens.split())\n",
    "df['item_description'], df['desc_len'] = zip(*df['item_description'].apply(des_len))"
   ]
  },
  {
   "cell_type": "code",
   "execution_count": 66,
   "metadata": {},
   "outputs": [
    {
     "name": "stdout",
     "output_type": "stream",
     "text": [
      "(741268, 10) (370633, 10) (370636, 10)\n"
     ]
    }
   ],
   "source": [
    "# split into a train dataset and a test dataset, and a validation dataset\n",
    "train = df.loc[0:len(df)//2,:]\n",
    "test = df.loc[len(df)//2:len(df)//4*3, :]\n",
    "validation = df.loc[len(df)//4*3:,:]\n",
    "print(train.shape, test.shape, validation.shape)\n",
    "cat_avg_price = train.groupby(['category_name', 'brand_name']).log_price.agg(['mean']).reset_index()\n",
    "cat_avg_price = cat_avg_price.rename(columns={\"mean\": \"cat_brand_avg_log_price\"})"
   ]
  },
  {
   "cell_type": "code",
   "execution_count": 67,
   "metadata": {},
   "outputs": [
    {
     "data": {
      "image/png": "[encoded data removed]",
      "text/plain": [
       "<Figure size 432x288 with 1 Axes>"
      ]
     },
     "metadata": {},
     "output_type": "display_data"
    }
   ],
   "source": [
    "_ = plt.hist(cat_avg_price['cat_brand_avg_log_price'], 50, facecolor='green', alpha=0.75)\n",
    "plt.ylabel('frequency')\n",
    "plt.xlabel('category/brand mean log price')\n",
    "plt.title('distribution of category/brand mean log price')\n",
    "plt.show()\n",
    "# there is evidence that average prices vary across categories\n",
    "# so the item description can be used to model how a specific item differs \n",
    "# from the average item within the same category-brand combination\n",
    "# and how that difference can be used to predict whether, and by how much, the price should be marked up or down"
   ]
  },
  {
   "cell_type": "code",
   "execution_count": 69,
   "metadata": {},
   "outputs": [],
   "source": [
    "train = train.merge(cat_avg_price, on=['category_name', 'brand_name'])\n",
    "train['markup'] = train.log_price - train.cat_brand_avg_log_price\n",
    "test = test.merge(cat_avg_price, on=['category_name', 'brand_name'])\n",
    "validation = validation.merge(cat_avg_price, on=['category_name', 'brand_name'])\n",
    "\n",
    "# the goal of the exercise would be to predict the markup for each item, given its category name and item description"
   ]
  },
  {
   "cell_type": "code",
   "execution_count": 80,
   "metadata": {},
   "outputs": [
    {
     "data": {
      "image/png": "[encoded data removed]",
      "text/plain": [
       "<Figure size 432x288 with 1 Axes>"
      ]
     },
     "metadata": {},
     "output_type": "display_data"
    },
    {
     "name": "stdout",
     "output_type": "stream",
     "text": [
      "using max length of 200 captures  99.9991 percent of data\n",
      "using max length of 50 captures  86.7652 percent of data\n",
      "using max length of 25 captures  67.9051 percent of data\n"
     ]
    }
   ],
   "source": [
    "_ = plt.hist(train.desc_len, bins= 50, facecolor='green', alpha=0.75)\n",
    "plt.xlabel('length of item descriptions')\n",
    "plt.ylabel('freqency')\n",
    "plt.title('distribution of length of item description')\n",
    "plt.show()\n",
    "# sequence length of 200 seems fine, capturing most of the lengths\n",
    "print(\"using max length of 200 captures  %.4f percent of data\" \n",
    "      % (train[train.desc_len<200].shape[0] / train.shape[0]*100))\n",
    "# for computational reasons, limit to using max sequence length of 50\n",
    "print(\"using max length of 50 captures  %.4f percent of data\" \n",
    "      % (train[train.desc_len<50].shape[0] / train.shape[0]*100))\n",
    "print(\"using max length of 25 captures  %.4f percent of data\" \n",
    "      % (train[train.desc_len<25].shape[0] / train.shape[0]*100))"
   ]
  },
  {
   "cell_type": "code",
   "execution_count": 37,
   "metadata": {},
   "outputs": [],
   "source": [
    "# create a numpy array holding the data\n",
    "# shape of array is len(train) x 200 x 150, where 200 is the max length, and 150 is the dimensionality of the word embedding\n",
    "# create a list of sequence length corresponding to the data\n",
    "max_T = 50\n",
    "embedding_size = embeddings[0].shape[0]\n",
    "def pad(batch_size = 1000):\n",
    "    global train_start_position\n",
    "    reset_condition = False # whether to reset the index of batch starting point\n",
    "    if train_start_position + batch_size > len(train):\n",
    "        train_start_position = len(train) - batch_size\n",
    "        print(\"at the end of training data; need to start from beginning\")\n",
    "        reset_condition = True\n",
    "    X = np.zeros((batch_size, max_T, embedding_size), dtype=float)\n",
    "    y = np.zeros((batch_size,), dtype=float)\n",
    "    seq_length = np.zeros((batch_size,), dtype=int)\n",
    "    \n",
    "    row = 0\n",
    "    for i in range(train_start_position, train_start_position + batch_size):\n",
    "        tokens = train.loc[i,'item_description'].split()\n",
    "        seq_length[row] = train.loc[i,'desc_len']\n",
    "        y[row] = train.loc[i,'markup']\n",
    "        for j in range(min(max_T, len(tokens))):\n",
    "            # the min operation is to bound above the number of tokens by 200\n",
    "            token = tokens[j]\n",
    "            if token not in dictionary: token = \"UNK\"\n",
    "            X[row,j,:] = embeddings[dictionary[token]]\n",
    "        row += 1\n",
    "    \n",
    "    train_start_position += batch_size\n",
    "    \n",
    "    if reset_condition: \n",
    "        train_start_position = 0\n",
    "        print(\"start position is reset to zero\")\n",
    "    return X, y, seq_length\n",
    "# this function takes about 0.1 second for each execution for batch size of 1000"
   ]
  },
  {
   "cell_type": "code",
   "execution_count": 50,
   "metadata": {},
   "outputs": [],
   "source": [
    "num_hidden = 150\n",
    "timesteps = max_T\n",
    "num_input = embeddings[0].shape[0]\n",
    "assert num_input == 100\n",
    "learning_rate = 0.001"
   ]
  },
  {
   "cell_type": "code",
   "execution_count": 51,
   "metadata": {},
   "outputs": [],
   "source": [
    "tf.reset_default_graph()\n",
    "graph = tf.Graph()\n",
    "tf.get_variable_scope().reuse_variables()\n",
    "with graph.as_default():\n",
    "    # tf Graph input\n",
    "    X = tf.placeholder(tf.float32, [None, timesteps, num_input])\n",
    "    y = tf.placeholder(tf.float32, [None,])\n",
    "    seq_length = tf.placeholder(tf.int8, [None,])\n",
    "    x = tf.unstack(X, timesteps, 1)\n",
    "    # unstack step above to get input into the right shape of a list of timesteps tensors, each of shape \n",
    "    # (batch_size, num_input)\n",
    "\n",
    "    # Define a lstm cell with tensorflow\n",
    "    lstm_cell = tf.nn.rnn_cell.BasicLSTMCell(num_hidden, forget_bias=1.0)\n",
    "    # Get lstm cell output\n",
    "    outputs, states = tf.nn.static_rnn(lstm_cell, x, sequence_length = seq_length, dtype=tf.float32)\n",
    "    states = states[1] \n",
    "    # shape (batch_size, num_hidden); \n",
    "    # this is the final state after RNN interprets the entire sequence\n",
    "    \n",
    "    # computes predicted markup using the final state\n",
    "    weights = tf.Variable(tf.random_normal([num_hidden,1]))\n",
    "    biases = tf.Variable(tf.random_normal([1,1]))\n",
    "    pred = tf.matmul(states, weights) + biases\n",
    "    \n",
    "    # compute loss and declare train op\n",
    "    loss = tf.sqrt(tf.reduce_mean(tf.square(pred-y)))\n",
    "    optimizer = tf.train.AdamOptimizer(learning_rate=learning_rate)\n",
    "    train_op = optimizer.minimize(loss)\n",
    "    \n",
    "    init = tf.global_variables_initializer()\n",
    "    \n",
    "    saver = tf.train.Saver()"
   ]
  },
  {
   "cell_type": "code",
   "execution_count": 83,
   "metadata": {},
   "outputs": [
    {
     "name": "stdout",
     "output_type": "stream",
     "text": [
      "INFO:tensorflow:Restoring parameters from /Users/lechiphuong/Desktop/mercari/Saved/lstm_basic.ckpt\n",
      "loaded session from saved version\n"
     ]
    },
    {
     "ename": "KeyboardInterrupt",
     "evalue": "",
     "output_type": "error",
     "traceback": [
      "\u001b[0;31m---------------------------------------------------------------------------\u001b[0m",
      "\u001b[0;31mKeyboardInterrupt\u001b[0m                         Traceback (most recent call last)",
      "\u001b[0;32m<ipython-input-83-242e2e1ef2b6>\u001b[0m in \u001b[0;36m<module>\u001b[0;34m()\u001b[0m\n\u001b[1;32m     13\u001b[0m         \u001b[0mbatch_X\u001b[0m\u001b[0;34m,\u001b[0m \u001b[0mbatch_y\u001b[0m\u001b[0;34m,\u001b[0m \u001b[0msequence_length\u001b[0m \u001b[0;34m=\u001b[0m \u001b[0mpad\u001b[0m\u001b[0;34m(\u001b[0m\u001b[0mbatch_size\u001b[0m\u001b[0;34m)\u001b[0m\u001b[0;34m\u001b[0m\u001b[0m\n\u001b[1;32m     14\u001b[0m         sess.run(train_op, \n\u001b[0;32m---> 15\u001b[0;31m                 feed_dict={X: batch_X, y: batch_y, seq_length: sequence_length})\n\u001b[0m\u001b[1;32m     16\u001b[0m         \u001b[0;32mif\u001b[0m \u001b[0mstep\u001b[0m\u001b[0;34m%\u001b[0m\u001b[0;36m100\u001b[0m \u001b[0;34m==\u001b[0m \u001b[0;36m0\u001b[0m\u001b[0;34m:\u001b[0m\u001b[0;34m\u001b[0m\u001b[0m\n\u001b[1;32m     17\u001b[0m             loss_step = sess.run([loss],\n",
      "\u001b[0;32m~/anaconda3/envs/tensorflow/lib/python3.6/site-packages/tensorflow/python/client/session.py\u001b[0m in \u001b[0;36mrun\u001b[0;34m(self, fetches, feed_dict, options, run_metadata)\u001b[0m\n\u001b[1;32m    903\u001b[0m     \u001b[0;32mtry\u001b[0m\u001b[0;34m:\u001b[0m\u001b[0;34m\u001b[0m\u001b[0m\n\u001b[1;32m    904\u001b[0m       result = self._run(None, fetches, feed_dict, options_ptr,\n\u001b[0;32m--> 905\u001b[0;31m                          run_metadata_ptr)\n\u001b[0m\u001b[1;32m    906\u001b[0m       \u001b[0;32mif\u001b[0m \u001b[0mrun_metadata\u001b[0m\u001b[0;34m:\u001b[0m\u001b[0;34m\u001b[0m\u001b[0m\n\u001b[1;32m    907\u001b[0m         \u001b[0mproto_data\u001b[0m \u001b[0;34m=\u001b[0m \u001b[0mtf_session\u001b[0m\u001b[0;34m.\u001b[0m\u001b[0mTF_GetBuffer\u001b[0m\u001b[0;34m(\u001b[0m\u001b[0mrun_metadata_ptr\u001b[0m\u001b[0;34m)\u001b[0m\u001b[0;34m\u001b[0m\u001b[0m\n",
      "\u001b[0;32m~/anaconda3/envs/tensorflow/lib/python3.6/site-packages/tensorflow/python/client/session.py\u001b[0m in \u001b[0;36m_run\u001b[0;34m(self, handle, fetches, feed_dict, options, run_metadata)\u001b[0m\n\u001b[1;32m   1135\u001b[0m     \u001b[0;32mif\u001b[0m \u001b[0mfinal_fetches\u001b[0m \u001b[0;32mor\u001b[0m \u001b[0mfinal_targets\u001b[0m \u001b[0;32mor\u001b[0m \u001b[0;34m(\u001b[0m\u001b[0mhandle\u001b[0m \u001b[0;32mand\u001b[0m \u001b[0mfeed_dict_tensor\u001b[0m\u001b[0;34m)\u001b[0m\u001b[0;34m:\u001b[0m\u001b[0;34m\u001b[0m\u001b[0m\n\u001b[1;32m   1136\u001b[0m       results = self._do_run(handle, final_targets, final_fetches,\n\u001b[0;32m-> 1137\u001b[0;31m                              feed_dict_tensor, options, run_metadata)\n\u001b[0m\u001b[1;32m   1138\u001b[0m     \u001b[0;32melse\u001b[0m\u001b[0;34m:\u001b[0m\u001b[0;34m\u001b[0m\u001b[0m\n\u001b[1;32m   1139\u001b[0m       \u001b[0mresults\u001b[0m \u001b[0;34m=\u001b[0m \u001b[0;34m[\u001b[0m\u001b[0;34m]\u001b[0m\u001b[0;34m\u001b[0m\u001b[0m\n",
      "\u001b[0;32m~/anaconda3/envs/tensorflow/lib/python3.6/site-packages/tensorflow/python/client/session.py\u001b[0m in \u001b[0;36m_do_run\u001b[0;34m(self, handle, target_list, fetch_list, feed_dict, options, run_metadata)\u001b[0m\n\u001b[1;32m   1353\u001b[0m     \u001b[0;32mif\u001b[0m \u001b[0mhandle\u001b[0m \u001b[0;32mis\u001b[0m \u001b[0;32mNone\u001b[0m\u001b[0;34m:\u001b[0m\u001b[0;34m\u001b[0m\u001b[0m\n\u001b[1;32m   1354\u001b[0m       return self._do_call(_run_fn, self._session, feeds, fetches, targets,\n\u001b[0;32m-> 1355\u001b[0;31m                            options, run_metadata)\n\u001b[0m\u001b[1;32m   1356\u001b[0m     \u001b[0;32melse\u001b[0m\u001b[0;34m:\u001b[0m\u001b[0;34m\u001b[0m\u001b[0m\n\u001b[1;32m   1357\u001b[0m       \u001b[0;32mreturn\u001b[0m \u001b[0mself\u001b[0m\u001b[0;34m.\u001b[0m\u001b[0m_do_call\u001b[0m\u001b[0;34m(\u001b[0m\u001b[0m_prun_fn\u001b[0m\u001b[0;34m,\u001b[0m \u001b[0mself\u001b[0m\u001b[0;34m.\u001b[0m\u001b[0m_session\u001b[0m\u001b[0;34m,\u001b[0m \u001b[0mhandle\u001b[0m\u001b[0;34m,\u001b[0m \u001b[0mfeeds\u001b[0m\u001b[0;34m,\u001b[0m \u001b[0mfetches\u001b[0m\u001b[0;34m)\u001b[0m\u001b[0;34m\u001b[0m\u001b[0m\n",
      "\u001b[0;32m~/anaconda3/envs/tensorflow/lib/python3.6/site-packages/tensorflow/python/client/session.py\u001b[0m in \u001b[0;36m_do_call\u001b[0;34m(self, fn, *args)\u001b[0m\n\u001b[1;32m   1359\u001b[0m   \u001b[0;32mdef\u001b[0m \u001b[0m_do_call\u001b[0m\u001b[0;34m(\u001b[0m\u001b[0mself\u001b[0m\u001b[0;34m,\u001b[0m \u001b[0mfn\u001b[0m\u001b[0;34m,\u001b[0m \u001b[0;34m*\u001b[0m\u001b[0margs\u001b[0m\u001b[0;34m)\u001b[0m\u001b[0;34m:\u001b[0m\u001b[0;34m\u001b[0m\u001b[0m\n\u001b[1;32m   1360\u001b[0m     \u001b[0;32mtry\u001b[0m\u001b[0;34m:\u001b[0m\u001b[0;34m\u001b[0m\u001b[0m\n\u001b[0;32m-> 1361\u001b[0;31m       \u001b[0;32mreturn\u001b[0m \u001b[0mfn\u001b[0m\u001b[0;34m(\u001b[0m\u001b[0;34m*\u001b[0m\u001b[0margs\u001b[0m\u001b[0;34m)\u001b[0m\u001b[0;34m\u001b[0m\u001b[0m\n\u001b[0m\u001b[1;32m   1362\u001b[0m     \u001b[0;32mexcept\u001b[0m \u001b[0merrors\u001b[0m\u001b[0;34m.\u001b[0m\u001b[0mOpError\u001b[0m \u001b[0;32mas\u001b[0m \u001b[0me\u001b[0m\u001b[0;34m:\u001b[0m\u001b[0;34m\u001b[0m\u001b[0m\n\u001b[1;32m   1363\u001b[0m       \u001b[0mmessage\u001b[0m \u001b[0;34m=\u001b[0m \u001b[0mcompat\u001b[0m\u001b[0;34m.\u001b[0m\u001b[0mas_text\u001b[0m\u001b[0;34m(\u001b[0m\u001b[0me\u001b[0m\u001b[0;34m.\u001b[0m\u001b[0mmessage\u001b[0m\u001b[0;34m)\u001b[0m\u001b[0;34m\u001b[0m\u001b[0m\n",
      "\u001b[0;32m~/anaconda3/envs/tensorflow/lib/python3.6/site-packages/tensorflow/python/client/session.py\u001b[0m in \u001b[0;36m_run_fn\u001b[0;34m(session, feed_dict, fetch_list, target_list, options, run_metadata)\u001b[0m\n\u001b[1;32m   1338\u001b[0m         \u001b[0;32melse\u001b[0m\u001b[0;34m:\u001b[0m\u001b[0;34m\u001b[0m\u001b[0m\n\u001b[1;32m   1339\u001b[0m           return tf_session.TF_Run(session, options, feed_dict, fetch_list,\n\u001b[0;32m-> 1340\u001b[0;31m                                    target_list, status, run_metadata)\n\u001b[0m\u001b[1;32m   1341\u001b[0m \u001b[0;34m\u001b[0m\u001b[0m\n\u001b[1;32m   1342\u001b[0m     \u001b[0;32mdef\u001b[0m \u001b[0m_prun_fn\u001b[0m\u001b[0;34m(\u001b[0m\u001b[0msession\u001b[0m\u001b[0;34m,\u001b[0m \u001b[0mhandle\u001b[0m\u001b[0;34m,\u001b[0m \u001b[0mfeed_dict\u001b[0m\u001b[0;34m,\u001b[0m \u001b[0mfetch_list\u001b[0m\u001b[0;34m)\u001b[0m\u001b[0;34m:\u001b[0m\u001b[0;34m\u001b[0m\u001b[0m\n",
      "\u001b[0;31mKeyboardInterrupt\u001b[0m: "
     ]
    }
   ],
   "source": [
    "train_start_position = 0\n",
    "\n",
    "with tf.Session(graph=graph) as sess:\n",
    "    # Run the initializer\n",
    "    sess.run(init)\n",
    "    if os.path.exists(\"/Users/lechiphuong/Desktop/mercari/Saved/lstm_basic.ckpt.meta\"):\n",
    "        saver.restore(sess, os.getcwd()+\"/Saved/lstm_basic.ckpt\")\n",
    "        print(\"loaded session from saved version\")\n",
    "    batch_size = 100\n",
    "    training_steps = 10**4\n",
    "    time_0 = time()\n",
    "    for step in range(training_steps):\n",
    "        batch_X, batch_y, sequence_length = pad(batch_size)\n",
    "        sess.run(train_op, \n",
    "                feed_dict={X: batch_X, y: batch_y, seq_length: sequence_length})\n",
    "        if step%100 == 0:\n",
    "            loss_step = sess.run([loss],\n",
    "                feed_dict={X: batch_X, y: batch_y, seq_length: sequence_length})\n",
    "            print(step, loss_step, time() - time_0)\n",
    "            time_0 = time()\n",
    "            \n",
    "        if step%1000 == 0:\n",
    "            save_path = saver.save(sess, os.getcwd()+\"/Saved/lstm_basic.ckpt\")\n",
    "            print(\"Model saved in file: {0}\".format(save_path))"
   ]
  },
  {
   "cell_type": "code",
   "execution_count": 57,
   "metadata": {},
   "outputs": [
    {
     "data": {
      "text/plain": [
       "'/Users/lechiphuong/Desktop/mercari/Saved/lstm_basic.ckpt'"
      ]
     },
     "execution_count": 57,
     "metadata": {},
     "output_type": "execute_result"
    }
   ],
   "source": [
    "save_path"
   ]
  }
 ],
 "metadata": {
  "kernelspec": {
   "display_name": "Python 3",
   "language": "python",
   "name": "python3"
  },
  "language_info": {
   "codemirror_mode": {
    "name": "ipython",
    "version": 3
   },
   "file_extension": ".py",
   "mimetype": "text/x-python",
   "name": "python",
   "nbconvert_exporter": "python",
   "pygments_lexer": "ipython3",
   "version": "3.6.4"
  }
 },
 "nbformat": 4,
 "nbformat_minor": 2
}
